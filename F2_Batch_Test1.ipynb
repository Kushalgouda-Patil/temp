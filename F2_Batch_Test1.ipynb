{
  "nbformat": 4,
  "nbformat_minor": 0,
  "metadata": {
    "colab": {
      "provenance": [],
      "include_colab_link": true
    },
    "kernelspec": {
      "name": "python3",
      "display_name": "Python 3"
    },
    "language_info": {
      "name": "python"
    }
  },
  "cells": [
    {
      "cell_type": "markdown",
      "metadata": {
        "id": "view-in-github",
        "colab_type": "text"
      },
      "source": [
        "<a href=\"https://colab.research.google.com/github/Kushalgouda-Patil/temp/blob/main/F2_Batch_Test1.ipynb\" target=\"_parent\"><img src=\"https://colab.research.google.com/assets/colab-badge.svg\" alt=\"Open In Colab\"/></a>"
      ]
    },
    {
      "cell_type": "markdown",
      "source": [
        "# 1. Implement a python program to count the frequency of elements (heterogeneous data type) in a list and store it in a dictionary?"
      ],
      "metadata": {
        "id": "BnKOtrjdYDg1"
      }
    },
    {
      "cell_type": "code",
      "source": [
        "def count_freq(x_list)->dict:\n",
        "  '''Counts the frequency of elements in a list\n",
        "  arguments=list\n",
        "  return type=dict\n",
        "  '''\n",
        "  y_dict=dict()\n",
        "  for item in x_list:\n",
        "    y_dict[item]=x_list.count(item)\n",
        "  return y_dict\n",
        "\n",
        "y_dict=count_freq([1,'Kushal',3,4.5,'Kushal'])\n",
        "\n",
        "print(y_dict)"
      ],
      "metadata": {
        "id": "oAr899QgYDrp",
        "colab": {
          "base_uri": "https://localhost:8080/"
        },
        "outputId": "2a697543-dbf3-429f-dd40-e2c151b69d5b"
      },
      "execution_count": null,
      "outputs": [
        {
          "output_type": "stream",
          "name": "stdout",
          "text": [
            "{1: 1, 'Kushal': 2, 3: 1, 4.5: 1}\n"
          ]
        }
      ]
    },
    {
      "cell_type": "markdown",
      "source": [
        "# 2. Write a Python function which takes a sentence and a length value as inputs and returns the counts of those words from the sentence whose length is equal to the provided input length value."
      ],
      "metadata": {
        "id": "3JACf_rYYDzM"
      }
    },
    {
      "cell_type": "code",
      "source": [
        "in_str=input(\"Enter the string:\")\n",
        "y=int(input(\"Enter the length of the word:\"))\n",
        "str_list=in_str.split()\n",
        "\n",
        "f=lambda x: (len(x)==y)\n",
        "print(f\"Count of words with length {y} ={len(list(filter(f,str_list)))}\")\n"
      ],
      "metadata": {
        "id": "_6vI9hPlYD8G",
        "colab": {
          "base_uri": "https://localhost:8080/"
        },
        "outputId": "0752eb69-ee95-44b3-b47e-b5db0264d818"
      },
      "execution_count": null,
      "outputs": [
        {
          "output_type": "stream",
          "name": "stdout",
          "text": [
            "Enter the string:I love Programming bhuj\n",
            "Enter the length of the word:4\n",
            "Count of words with length 4 =2\n"
          ]
        }
      ]
    },
    {
      "cell_type": "markdown",
      "source": [
        "# 3.  Implemet a Python program to print the following sequence for a given value of n (n=5).\n",
        "\n",
        "        1\n",
        "       123\n",
        "      12345\n",
        "     1234567\n",
        "    123456789\n",
        "     1234567\n",
        "      12345\n",
        "       123\n",
        "        1\n"
      ],
      "metadata": {
        "id": "TfI04QjOYECX"
      }
    },
    {
      "cell_type": "code",
      "source": [
        "inv=5\n",
        "\n",
        "\n",
        "n=2\n",
        "for i in range(inv-1,-1,-1):\n",
        "  print(\" \"*i,end='')\n",
        "  for j in range(1,n):\n",
        "    print(j,end='')\n",
        "  print('\\n',end='')\n",
        "  n+=2\n",
        "n-=4\n",
        "for i in range(1,inv):\n",
        "  print(\" \"*i,end='')\n",
        "  for j in range(1,n):\n",
        "    print(j,end='')\n",
        "  n-=2\n",
        "  print()\n",
        "\n",
        "  \n"
      ],
      "metadata": {
        "id": "lrFOcM9KYEJy",
        "colab": {
          "base_uri": "https://localhost:8080/"
        },
        "outputId": "afe2b963-b443-4481-cdbd-4f0af7e58ee3"
      },
      "execution_count": null,
      "outputs": [
        {
          "output_type": "stream",
          "name": "stdout",
          "text": [
            "    1\n",
            "   123\n",
            "  12345\n",
            " 1234567\n",
            "123456789\n",
            " 1234567\n",
            "  12345\n",
            "   123\n",
            "    1\n"
          ]
        }
      ]
    },
    {
      "cell_type": "markdown",
      "source": [
        "# 4. Implement a python program which create a new dictionary that contains the common keys and concatenate their corresponding values into list to form new value from given three dictionaries."
      ],
      "metadata": {
        "id": "wq4DkqYUYESM"
      }
    },
    {
      "cell_type": "code",
      "source": [
        "d1={4:\"jsd\",5:\"djhs\"}\n",
        "d2={4:\"hd\"}\n",
        "\n",
        "d3=dict()\n",
        "\n",
        "def commonn(x):\n",
        "  for i in x:\n",
        "    if d3.get(i,False ):\n",
        "      temp=[d3[i],x[i]]\n",
        "      d3[i]=temp\n",
        "\n",
        "    else:\n",
        "      d3[i]=x[i];\n",
        "commonn(d1)\n",
        "commonn(d2)\n",
        "d3\n",
        "\n",
        "  "
      ],
      "metadata": {
        "id": "EjLrba6VYEYT",
        "colab": {
          "base_uri": "https://localhost:8080/"
        },
        "outputId": "2c33a02c-7da7-41d4-ac0d-b4df5b937ab3"
      },
      "execution_count": null,
      "outputs": [
        {
          "output_type": "execute_result",
          "data": {
            "text/plain": [
              "{4: ['jsd', 'hd'], 5: 'djhs'}"
            ]
          },
          "metadata": {},
          "execution_count": 129
        }
      ]
    },
    {
      "cell_type": "markdown",
      "source": [
        "## 5. Implement a Python program which takes sentence as input and prints longest substring without repeating characters in all the words:"
      ],
      "metadata": {
        "id": "yQoduKFVYElA"
      }
    },
    {
      "cell_type": "code",
      "source": [
        "s2=\"I Love Pytyhon programming\"\n",
        "def lon_sub(s1):\n",
        "  s1=s1.lower()\n",
        "  g_lst=list()\n",
        "  g_lst=[' ']\n",
        "  temp_str=''\n",
        "  for i in range(len(s1)):\n",
        "    temp_str=''\n",
        "    for j in range(i,len(s1)):\n",
        "      if s1[j] not in temp_str:\n",
        "        temp_str+=s1[j]\n",
        "      else:\n",
        "        if len(g_lst[0])<len(temp_str):\n",
        "          g_lst.clear()\n",
        "          g_lst.append(temp_str)\n",
        "        elif len(g_lst[0])==len(temp_str):\n",
        "          g_lst.append(temp_str)\n",
        "        else:\n",
        "          pass\n",
        "        i-=1\n",
        "        break\n",
        "      if len(temp_str)==len(s1):\n",
        "        print(temp_str)\n",
        "        return\n",
        "\n",
        "    #print(temp_str)\n",
        "  print(g_lst)\n",
        "for i in s2.split():\n",
        "  lon_sub(i)"
      ],
      "metadata": {
        "id": "5z0LfVN5YEsD",
        "colab": {
          "base_uri": "https://localhost:8080/"
        },
        "outputId": "c7478fa5-3bcc-4ed4-da70-28408afdb19b"
      },
      "execution_count": null,
      "outputs": [
        {
          "output_type": "stream",
          "name": "stdout",
          "text": [
            "i\n",
            "love\n",
            "['pyt']\n",
            "['ogram']\n"
          ]
        }
      ]
    },
    {
      "cell_type": "markdown",
      "source": [
        "# 6. Implement a Python program which finds the subarray with the maximum sum from a list of integers (both +ve and negative):"
      ],
      "metadata": {
        "id": "CIncNqpvYEzD"
      }
    },
    {
      "cell_type": "code",
      "source": [
        "import numpy as np\n",
        "arr_pn=[1,2,3333,-4,3,111,-4]\n",
        "\n",
        "arr_pn.append(-1)\n",
        "tl=list()\n",
        "n_ar=np.array([0])\n",
        "for i in arr_pn:\n",
        "  if i>=0:\n",
        "    tl.append(i)\n",
        "  else:\n",
        "    if n_ar.sum()<np.array(tl).sum():\n",
        "      n_ar=np.array(tl)\n",
        "    tl.clear()\n",
        "print(n_ar)\n",
        "    \n",
        "\n",
        "\n",
        "\n"
      ],
      "metadata": {
        "id": "_BjDS_R5YE68",
        "colab": {
          "base_uri": "https://localhost:8080/"
        },
        "outputId": "8525f1f0-fec8-4cd3-dce1-edaa6c89b7d2"
      },
      "execution_count": null,
      "outputs": [
        {
          "output_type": "stream",
          "name": "stdout",
          "text": [
            "[   1    2 3333]\n"
          ]
        }
      ]
    },
    {
      "cell_type": "markdown",
      "source": [
        "# 7. Implemet a Python program to print the longest increasing and decresing  subsequence in a given list of numeric elements:"
      ],
      "metadata": {
        "id": "5Z4QQsl1YFBR"
      }
    },
    {
      "cell_type": "code",
      "source": [
        "num=[1,2,3,4,5,6,2,4,6,7]\n",
        "ttl=[1]\n",
        "stl=list()\n",
        "for i in range(1,len(num)):\n",
        "  if num[i-1]<num[i]:\n",
        "    ttl.append(num[i])\n",
        "  else:\n",
        "    if len(ttl)>len(stl):\n",
        "      \n",
        "      stl.clear()\n",
        "      stl=list()\n",
        "      stl.extend(ttl)\n",
        "      #print(stl)\n",
        "    \n",
        "    ttl.clear()\n",
        "    ttl.append(num[i])\n",
        "print(stl)\n",
        "\n",
        "\n",
        "num=[1,2,3,4,5,6,2,4,6,7]\n",
        "ttl=[1]\n",
        "stl=list()\n",
        "for i in range(1,len(num)):\n",
        "  if num[i-1]>num[i]:\n",
        "    ttl.append(num[i])\n",
        "  else:\n",
        "    if len(ttl)>len(stl):\n",
        "      stl.clear()\n",
        "      stl=list()\n",
        "      stl.extend(ttl)\n",
        "    ttl.clear()\n",
        "    ttl.append(num[i])\n",
        "print(stl)"
      ],
      "metadata": {
        "id": "ib43zHmFYFIu",
        "colab": {
          "base_uri": "https://localhost:8080/"
        },
        "outputId": "4d9eb155-feb1-492c-edf6-3b307f7ac6a8"
      },
      "execution_count": null,
      "outputs": [
        {
          "output_type": "stream",
          "name": "stdout",
          "text": [
            "[1, 2, 3, 4, 5, 6]\n",
            "[6, 2]\n"
          ]
        }
      ]
    },
    {
      "cell_type": "markdown",
      "source": [
        "# 8. Implement a Python program to perform rotation of list by n positions and print the list. Rotation direction: Left/Right and the n value for postion will be selected by the user.  "
      ],
      "metadata": {
        "id": "rJAr_iRBYFPC"
      }
    },
    {
      "cell_type": "code",
      "source": [
        "rr=[1,2,3,4,5]\n",
        "hh=[2,34,5,6,90]\n",
        "def le(inp,n):\n",
        "  for x in range(n):\n",
        "    inp.append(inp.pop(0))\n",
        "def ri(inp,n):\n",
        "  for x in range(n):\n",
        "    inp.insert(0,inp.pop())\n",
        "le(rr,2)\n",
        "print(rr)\n",
        "ri(hh,3)\n",
        "print(hh)"
      ],
      "metadata": {
        "id": "cqyUu9g0YFWp",
        "colab": {
          "base_uri": "https://localhost:8080/"
        },
        "outputId": "de19b09c-c800-4ab9-bc68-e584ad4d249b"
      },
      "execution_count": null,
      "outputs": [
        {
          "output_type": "stream",
          "name": "stdout",
          "text": [
            "[3, 4, 5, 1, 2]\n",
            "[5, 6, 90, 2, 34]\n"
          ]
        }
      ]
    },
    {
      "cell_type": "code",
      "source": [],
      "metadata": {
        "id": "_TpJVPhp2Vv4"
      },
      "execution_count": null,
      "outputs": []
    },
    {
      "cell_type": "markdown",
      "source": [
        "# 9. Implement a Python program to calculate and mean and median for the elements present in list without using built in functions. "
      ],
      "metadata": {
        "id": "QTuD0dO9YFsX"
      }
    },
    {
      "cell_type": "code",
      "source": [
        "e1=[2,3,4,5,6,7,11,122,345]\n",
        "def mean1(e1):\n",
        "  sum=0\n",
        "  for i in e1:\n",
        "    sum+=i\n",
        "  return sum/(len(e1))\n",
        "\n",
        "def median1(e1):\n",
        "  e1.sort()\n",
        "  return e1[int(len(e1)/2)]\n",
        "print(mean1(e1))\n",
        "print(median1(e1))"
      ],
      "metadata": {
        "id": "qgA_If-7YF0R",
        "colab": {
          "base_uri": "https://localhost:8080/"
        },
        "outputId": "f4d3d0a4-d216-4217-f3fa-e36e48e4fb26"
      },
      "execution_count": null,
      "outputs": [
        {
          "output_type": "stream",
          "name": "stdout",
          "text": [
            "56.111111111111114\n",
            "6\n"
          ]
        }
      ]
    },
    {
      "cell_type": "markdown",
      "source": [
        "# 10. You are given a list of strings, where each string represents a sentence. Your task is to write a Python program that performs following operations on the list.\n",
        "\n",
        "1. Identify the longest sentence in terms of the number of words and display it.\n",
        "2. Determine the frequency of each word used in the entire list and create a dictionary where the keys are the unique words and the values are their corresponding frequencies.\n",
        "3. Find the top 5 most frequent words in the list and display them along with their frequencies.\n",
        "4. Create a new list of unique words that appear only once in the sentences.\n",
        "5. Remove any stop words (commonly occurring words like \"the,\" \"is,\" etc.) from the sentences and create a new list with stop words excluded."
      ],
      "metadata": {
        "id": "RAI_7n5YYF62"
      }
    },
    {
      "cell_type": "code",
      "source": [
        "str_sen=[\"Variable inspector Variable\",\"cannot assign to function call here\", \"Maybe you meant cannot the is\"]\n",
        "lon=''\n",
        "dict_freq=dict()\n",
        "concated=''\n",
        "for i in str_sen:\n",
        "  if(len(i.split())>len(lon.split())):\n",
        "    lon=i\n",
        "  concated=concated+i+' '\n",
        "concated=concated.split()\n",
        "for item in concated:\n",
        "  dict_freq[item]=concated.count(item)\n",
        "print(lon)\n",
        "print(dict_freq)"
      ],
      "metadata": {
        "id": "XfDed-X-Cvqz",
        "colab": {
          "base_uri": "https://localhost:8080/"
        },
        "outputId": "daa02595-aea3-45cd-8d22-b79bd6b69596"
      },
      "execution_count": null,
      "outputs": [
        {
          "output_type": "stream",
          "name": "stdout",
          "text": [
            "cannot assign to function call here\n",
            "{'Variable': 2, 'inspector': 1, 'cannot': 2, 'assign': 1, 'to': 1, 'function': 1, 'call': 1, 'here': 1, 'Maybe': 1, 'you': 1, 'meant': 1, 'the': 1, 'is': 1}\n"
          ]
        }
      ]
    },
    {
      "cell_type": "code",
      "source": [
        "list_unique=list()\n",
        "for i in str_sen:\n",
        "  temp=i.split()\n",
        "  for j in temp:\n",
        "    if temp.count(j)==1:\n",
        "      list_unique.append(j)\n",
        "\n",
        "list_unique"
      ],
      "metadata": {
        "colab": {
          "base_uri": "https://localhost:8080/"
        },
        "id": "7Y-U8xsmp8rr",
        "outputId": "46475c54-b52c-4c8f-c5eb-3ac685a76d7b"
      },
      "execution_count": null,
      "outputs": [
        {
          "output_type": "execute_result",
          "data": {
            "text/plain": [
              "['inspector',\n",
              " 'cannot',\n",
              " 'assign',\n",
              " 'to',\n",
              " 'function',\n",
              " 'call',\n",
              " 'here',\n",
              " 'Maybe',\n",
              " 'you',\n",
              " 'meant',\n",
              " 'cannot',\n",
              " 'the',\n",
              " 'is']"
            ]
          },
          "metadata": {},
          "execution_count": 145
        }
      ]
    },
    {
      "cell_type": "code",
      "source": [
        "mlist=[]\n",
        "for i in str_sen:\n",
        "  temp=i.split()\n",
        "  for j in temp:\n",
        "    mlist.append(j)\n",
        "try:\n",
        "  mlist.remove(\"the\")\n",
        "  mlist.remove(\"is\")\n",
        "except:\n",
        "  pass\n",
        "mlist"
      ],
      "metadata": {
        "colab": {
          "base_uri": "https://localhost:8080/"
        },
        "id": "deSGR0jKrE06",
        "outputId": "52d49763-069a-4ee3-b281-24fc0ada2796"
      },
      "execution_count": null,
      "outputs": [
        {
          "output_type": "execute_result",
          "data": {
            "text/plain": [
              "['Variable',\n",
              " 'inspector',\n",
              " 'Variable',\n",
              " 'cannot',\n",
              " 'assign',\n",
              " 'to',\n",
              " 'function',\n",
              " 'call',\n",
              " 'here',\n",
              " 'Maybe',\n",
              " 'you',\n",
              " 'meant',\n",
              " 'cannot']"
            ]
          },
          "metadata": {},
          "execution_count": 146
        }
      ]
    },
    {
      "cell_type": "code",
      "source": [
        "m1list=[]\n",
        "for i in str_sen:\n",
        "  temp=i.split()\n",
        "  for j in temp:\n",
        "    m1list.append(j)\n",
        "for u in m1list:\n",
        "  u= str(m1list.count(u)) + u\n",
        "m1list\n",
        "  \n",
        "\n"
      ],
      "metadata": {
        "colab": {
          "base_uri": "https://localhost:8080/"
        },
        "id": "OyHUOhbE1-_K",
        "outputId": "d47ec11d-88cf-4736-b8bf-bbfc88e8d707"
      },
      "execution_count": null,
      "outputs": [
        {
          "output_type": "execute_result",
          "data": {
            "text/plain": [
              "['Variable',\n",
              " 'inspector',\n",
              " 'Variable',\n",
              " 'cannot',\n",
              " 'assign',\n",
              " 'to',\n",
              " 'function',\n",
              " 'call',\n",
              " 'here',\n",
              " 'Maybe',\n",
              " 'you',\n",
              " 'meant',\n",
              " 'cannot',\n",
              " 'the',\n",
              " 'is']"
            ]
          },
          "metadata": {},
          "execution_count": 151
        }
      ]
    },
    {
      "cell_type": "code",
      "source": [],
      "metadata": {
        "id": "Mej00fh4xgE5"
      },
      "execution_count": null,
      "outputs": []
    }
  ]
}